{
 "cells": [
  {
   "cell_type": "code",
   "execution_count": 2,
   "metadata": {},
   "outputs": [],
   "source": [
    "#在数据分析中，基本功之一：从众多数据中筛选出所需数据。\n",
    "#在进行分析时，我们一般拿到的文件一般都不会是肉眼能全部看的过来的，所以经常需要根据要求来筛选不同的数据。\n",
    "#这个项目练习如何完成数据筛选，包含：\n",
    "#1. 根据行筛选数据\n",
    "#2. 根据列筛选数据\n",
    "#3. 根据行列筛选数据\n",
    "#4. 根据布尔条件筛选数据\n",
    "import pandas as pd\n",
    "import numpy as np"
   ]
  },
  {
   "cell_type": "code",
   "execution_count": 3,
   "metadata": {},
   "outputs": [],
   "source": [
    "#第一步：读取数据\n",
    "#这里读取我们上一节生成的合并后的结果文件\n",
    "try:\n",
    "    data = pd.read_csv(\"/home/wp/Pandas_practice/1_data/movie_ratings_summary.csv\", encoding=\"gbk\")\n",
    "    data.head()\n",
    "except Exception as e:\n",
    "    print(e)"
   ]
  },
  {
   "cell_type": "code",
   "execution_count": 4,
   "metadata": {},
   "outputs": [
    {
     "data": {
      "text/html": [
       "<div style=\"max-height:1000px;max-width:1500px;overflow:auto;\">\n",
       "<table border=\"1\" class=\"dataframe\">\n",
       "  <thead>\n",
       "    <tr style=\"text-align: right;\">\n",
       "      <th></th>\n",
       "      <th>userId</th>\n",
       "      <th>movieId</th>\n",
       "      <th>rating</th>\n",
       "      <th>timestamp</th>\n",
       "      <th>title</th>\n",
       "      <th>genres</th>\n",
       "      <th>imdbId</th>\n",
       "      <th>tmdbId</th>\n",
       "    </tr>\n",
       "  </thead>\n",
       "  <tbody>\n",
       "    <tr>\n",
       "      <th>0</th>\n",
       "      <td>  1</td>\n",
       "      <td> 31</td>\n",
       "      <td> 2.5</td>\n",
       "      <td> 1260759144</td>\n",
       "      <td> Dangerous Minds (1995)</td>\n",
       "      <td> Drama</td>\n",
       "      <td> 112792</td>\n",
       "      <td> 9909</td>\n",
       "    </tr>\n",
       "    <tr>\n",
       "      <th>1</th>\n",
       "      <td>  7</td>\n",
       "      <td> 31</td>\n",
       "      <td> 3.0</td>\n",
       "      <td>  851868750</td>\n",
       "      <td> Dangerous Minds (1995)</td>\n",
       "      <td> Drama</td>\n",
       "      <td> 112792</td>\n",
       "      <td> 9909</td>\n",
       "    </tr>\n",
       "    <tr>\n",
       "      <th>2</th>\n",
       "      <td> 31</td>\n",
       "      <td> 31</td>\n",
       "      <td> 4.0</td>\n",
       "      <td> 1273541953</td>\n",
       "      <td> Dangerous Minds (1995)</td>\n",
       "      <td> Drama</td>\n",
       "      <td> 112792</td>\n",
       "      <td> 9909</td>\n",
       "    </tr>\n",
       "    <tr>\n",
       "      <th>3</th>\n",
       "      <td> 32</td>\n",
       "      <td> 31</td>\n",
       "      <td> 4.0</td>\n",
       "      <td>  834828440</td>\n",
       "      <td> Dangerous Minds (1995)</td>\n",
       "      <td> Drama</td>\n",
       "      <td> 112792</td>\n",
       "      <td> 9909</td>\n",
       "    </tr>\n",
       "    <tr>\n",
       "      <th>4</th>\n",
       "      <td> 36</td>\n",
       "      <td> 31</td>\n",
       "      <td> 3.0</td>\n",
       "      <td>  847057202</td>\n",
       "      <td> Dangerous Minds (1995)</td>\n",
       "      <td> Drama</td>\n",
       "      <td> 112792</td>\n",
       "      <td> 9909</td>\n",
       "    </tr>\n",
       "  </tbody>\n",
       "</table>\n",
       "<p>5 rows × 8 columns</p>\n",
       "</div>"
      ],
      "text/plain": [
       "   userId  movieId  rating   timestamp                   title genres  imdbId  \\\n",
       "0       1       31     2.5  1260759144  Dangerous Minds (1995)  Drama  112792   \n",
       "1       7       31     3.0   851868750  Dangerous Minds (1995)  Drama  112792   \n",
       "2      31       31     4.0  1273541953  Dangerous Minds (1995)  Drama  112792   \n",
       "3      32       31     4.0   834828440  Dangerous Minds (1995)  Drama  112792   \n",
       "4      36       31     3.0   847057202  Dangerous Minds (1995)  Drama  112792   \n",
       "\n",
       "   tmdbId  \n",
       "0    9909  \n",
       "1    9909  \n",
       "2    9909  \n",
       "3    9909  \n",
       "4    9909  \n",
       "\n",
       "[5 rows x 8 columns]"
      ]
     },
     "execution_count": 4,
     "metadata": {},
     "output_type": "execute_result"
    }
   ],
   "source": [
    "#data = pd.read_csv(\"/home/wp/Pandas_practice/1_data/movie_ratings_summary.csv\", encoding=\"gbk\")\n",
    "data = pd.read_csv(\"/home/wp/Pandas_practice/1_data/movie_ratings_summary.csv\")\n",
    "data.head()"
   ]
  },
  {
   "cell_type": "code",
   "execution_count": 5,
   "metadata": {},
   "outputs": [
    {
     "data": {
      "text/plain": [
       "(100004, 8)"
      ]
     },
     "execution_count": 5,
     "metadata": {},
     "output_type": "execute_result"
    }
   ],
   "source": [
    "data.shape"
   ]
  },
  {
   "cell_type": "code",
   "execution_count": 6,
   "metadata": {},
   "outputs": [
    {
     "data": {
      "text/html": [
       "<div style=\"max-height:1000px;max-width:1500px;overflow:auto;\">\n",
       "<table border=\"1\" class=\"dataframe\">\n",
       "  <thead>\n",
       "    <tr style=\"text-align: right;\">\n",
       "      <th></th>\n",
       "      <th>userId</th>\n",
       "      <th>movieId</th>\n",
       "      <th>rating</th>\n",
       "      <th>timestamp</th>\n",
       "      <th>title</th>\n",
       "      <th>genres</th>\n",
       "      <th>imdbId</th>\n",
       "      <th>tmdbId</th>\n",
       "    </tr>\n",
       "  </thead>\n",
       "  <tbody>\n",
       "    <tr>\n",
       "      <th>0</th>\n",
       "      <td> 1</td>\n",
       "      <td> 31</td>\n",
       "      <td> 2.5</td>\n",
       "      <td> 1260759144</td>\n",
       "      <td> Dangerous Minds (1995)</td>\n",
       "      <td> Drama</td>\n",
       "      <td> 112792</td>\n",
       "      <td> 9909</td>\n",
       "    </tr>\n",
       "    <tr>\n",
       "      <th>1</th>\n",
       "      <td> 7</td>\n",
       "      <td> 31</td>\n",
       "      <td> 3.0</td>\n",
       "      <td>  851868750</td>\n",
       "      <td> Dangerous Minds (1995)</td>\n",
       "      <td> Drama</td>\n",
       "      <td> 112792</td>\n",
       "      <td> 9909</td>\n",
       "    </tr>\n",
       "  </tbody>\n",
       "</table>\n",
       "<p>2 rows × 8 columns</p>\n",
       "</div>"
      ],
      "text/plain": [
       "   userId  movieId  rating   timestamp                   title genres  imdbId  \\\n",
       "0       1       31     2.5  1260759144  Dangerous Minds (1995)  Drama  112792   \n",
       "1       7       31     3.0   851868750  Dangerous Minds (1995)  Drama  112792   \n",
       "\n",
       "   tmdbId  \n",
       "0    9909  \n",
       "1    9909  \n",
       "\n",
       "[2 rows x 8 columns]"
      ]
     },
     "execution_count": 6,
     "metadata": {},
     "output_type": "execute_result"
    }
   ],
   "source": [
    "#第二步： 根据“行”筛选数据\n",
    "#先看，如何筛选 行数据。仔细看前两行的数据？\n",
    "data.head(2)"
   ]
  },
  {
   "cell_type": "code",
   "execution_count": 7,
   "metadata": {},
   "outputs": [
    {
     "data": {
      "text/html": [
       "<div style=\"max-height:1000px;max-width:1500px;overflow:auto;\">\n",
       "<table border=\"1\" class=\"dataframe\">\n",
       "  <thead>\n",
       "    <tr style=\"text-align: right;\">\n",
       "      <th></th>\n",
       "      <th>userId</th>\n",
       "      <th>movieId</th>\n",
       "      <th>rating</th>\n",
       "      <th>timestamp</th>\n",
       "      <th>title</th>\n",
       "      <th>genres</th>\n",
       "      <th>imdbId</th>\n",
       "      <th>tmdbId</th>\n",
       "    </tr>\n",
       "  </thead>\n",
       "  <tbody>\n",
       "    <tr>\n",
       "      <th>0</th>\n",
       "      <td> 1</td>\n",
       "      <td> 31</td>\n",
       "      <td> 2.5</td>\n",
       "      <td> 1260759144</td>\n",
       "      <td> Dangerous Minds (1995)</td>\n",
       "      <td> Drama</td>\n",
       "      <td> 112792</td>\n",
       "      <td> 9909</td>\n",
       "    </tr>\n",
       "    <tr>\n",
       "      <th>1</th>\n",
       "      <td> 7</td>\n",
       "      <td> 31</td>\n",
       "      <td> 3.0</td>\n",
       "      <td>  851868750</td>\n",
       "      <td> Dangerous Minds (1995)</td>\n",
       "      <td> Drama</td>\n",
       "      <td> 112792</td>\n",
       "      <td> 9909</td>\n",
       "    </tr>\n",
       "  </tbody>\n",
       "</table>\n",
       "<p>2 rows × 8 columns</p>\n",
       "</div>"
      ],
      "text/plain": [
       "   userId  movieId  rating   timestamp                   title genres  imdbId  \\\n",
       "0       1       31     2.5  1260759144  Dangerous Minds (1995)  Drama  112792   \n",
       "1       7       31     3.0   851868750  Dangerous Minds (1995)  Drama  112792   \n",
       "\n",
       "   tmdbId  \n",
       "0    9909  \n",
       "1    9909  \n",
       "\n",
       "[2 rows x 8 columns]"
      ]
     },
     "execution_count": 7,
     "metadata": {},
     "output_type": "execute_result"
    }
   ],
   "source": [
    "#除了调用 head ()方法可以实现外，切片操作行，也可以实现。\n",
    "data[ :2]"
   ]
  },
  {
   "cell_type": "code",
   "execution_count": 8,
   "metadata": {},
   "outputs": [
    {
     "data": {
      "text/html": [
       "<div style=\"max-height:1000px;max-width:1500px;overflow:auto;\">\n",
       "<table border=\"1\" class=\"dataframe\">\n",
       "  <thead>\n",
       "    <tr style=\"text-align: right;\">\n",
       "      <th></th>\n",
       "      <th>userId</th>\n",
       "      <th>movieId</th>\n",
       "      <th>rating</th>\n",
       "      <th>timestamp</th>\n",
       "      <th>title</th>\n",
       "      <th>genres</th>\n",
       "      <th>imdbId</th>\n",
       "      <th>tmdbId</th>\n",
       "    </tr>\n",
       "  </thead>\n",
       "  <tbody>\n",
       "    <tr>\n",
       "      <th>100002</th>\n",
       "      <td> 665</td>\n",
       "      <td> 4736</td>\n",
       "      <td> 1</td>\n",
       "      <td> 1010197684</td>\n",
       "      <td>                  Summer Catch (2001)</td>\n",
       "      <td> Comedy|Drama|Romance</td>\n",
       "      <td> 234829</td>\n",
       "      <td> 26602</td>\n",
       "    </tr>\n",
       "    <tr>\n",
       "      <th>100003</th>\n",
       "      <td> 668</td>\n",
       "      <td> 6425</td>\n",
       "      <td> 1</td>\n",
       "      <td>  993613478</td>\n",
       "      <td> 6th Man, The (Sixth Man, The) (1997)</td>\n",
       "      <td>               Comedy</td>\n",
       "      <td> 120142</td>\n",
       "      <td> 36807</td>\n",
       "    </tr>\n",
       "  </tbody>\n",
       "</table>\n",
       "<p>2 rows × 8 columns</p>\n",
       "</div>"
      ],
      "text/plain": [
       "        userId  movieId  rating   timestamp  \\\n",
       "100002     665     4736       1  1010197684   \n",
       "100003     668     6425       1   993613478   \n",
       "\n",
       "                                       title                genres  imdbId  \\\n",
       "100002                   Summer Catch (2001)  Comedy|Drama|Romance  234829   \n",
       "100003  6th Man, The (Sixth Man, The) (1997)                Comedy  120142   \n",
       "\n",
       "        tmdbId  \n",
       "100002   26602  \n",
       "100003   36807  \n",
       "\n",
       "[2 rows x 8 columns]"
      ]
     },
     "execution_count": 8,
     "metadata": {},
     "output_type": "execute_result"
    }
   ],
   "source": [
    "#筛选最后2条数据，直接使用tail().\n",
    "data.tail(2)"
   ]
  },
  {
   "cell_type": "code",
   "execution_count": 9,
   "metadata": {},
   "outputs": [
    {
     "data": {
      "text/html": [
       "<div style=\"max-height:1000px;max-width:1500px;overflow:auto;\">\n",
       "<table border=\"1\" class=\"dataframe\">\n",
       "  <thead>\n",
       "    <tr style=\"text-align: right;\">\n",
       "      <th></th>\n",
       "      <th>userId</th>\n",
       "      <th>movieId</th>\n",
       "      <th>rating</th>\n",
       "      <th>timestamp</th>\n",
       "      <th>title</th>\n",
       "      <th>genres</th>\n",
       "      <th>imdbId</th>\n",
       "      <th>tmdbId</th>\n",
       "    </tr>\n",
       "  </thead>\n",
       "  <tbody>\n",
       "    <tr>\n",
       "      <th>4</th>\n",
       "      <td> 36</td>\n",
       "      <td> 31</td>\n",
       "      <td> 3.0</td>\n",
       "      <td>  847057202</td>\n",
       "      <td> Dangerous Minds (1995)</td>\n",
       "      <td> Drama</td>\n",
       "      <td> 112792</td>\n",
       "      <td> 9909</td>\n",
       "    </tr>\n",
       "    <tr>\n",
       "      <th>5</th>\n",
       "      <td> 39</td>\n",
       "      <td> 31</td>\n",
       "      <td> 3.0</td>\n",
       "      <td>  832525157</td>\n",
       "      <td> Dangerous Minds (1995)</td>\n",
       "      <td> Drama</td>\n",
       "      <td> 112792</td>\n",
       "      <td> 9909</td>\n",
       "    </tr>\n",
       "    <tr>\n",
       "      <th>6</th>\n",
       "      <td> 73</td>\n",
       "      <td> 31</td>\n",
       "      <td> 3.5</td>\n",
       "      <td> 1255591860</td>\n",
       "      <td> Dangerous Minds (1995)</td>\n",
       "      <td> Drama</td>\n",
       "      <td> 112792</td>\n",
       "      <td> 9909</td>\n",
       "    </tr>\n",
       "    <tr>\n",
       "      <th>7</th>\n",
       "      <td> 88</td>\n",
       "      <td> 31</td>\n",
       "      <td> 3.0</td>\n",
       "      <td> 1239755559</td>\n",
       "      <td> Dangerous Minds (1995)</td>\n",
       "      <td> Drama</td>\n",
       "      <td> 112792</td>\n",
       "      <td> 9909</td>\n",
       "    </tr>\n",
       "    <tr>\n",
       "      <th>8</th>\n",
       "      <td> 96</td>\n",
       "      <td> 31</td>\n",
       "      <td> 2.5</td>\n",
       "      <td> 1223256331</td>\n",
       "      <td> Dangerous Minds (1995)</td>\n",
       "      <td> Drama</td>\n",
       "      <td> 112792</td>\n",
       "      <td> 9909</td>\n",
       "    </tr>\n",
       "  </tbody>\n",
       "</table>\n",
       "<p>5 rows × 8 columns</p>\n",
       "</div>"
      ],
      "text/plain": [
       "   userId  movieId  rating   timestamp                   title genres  imdbId  \\\n",
       "4      36       31     3.0   847057202  Dangerous Minds (1995)  Drama  112792   \n",
       "5      39       31     3.0   832525157  Dangerous Minds (1995)  Drama  112792   \n",
       "6      73       31     3.5  1255591860  Dangerous Minds (1995)  Drama  112792   \n",
       "7      88       31     3.0  1239755559  Dangerous Minds (1995)  Drama  112792   \n",
       "8      96       31     2.5  1223256331  Dangerous Minds (1995)  Drama  112792   \n",
       "\n",
       "   tmdbId  \n",
       "4    9909  \n",
       "5    9909  \n",
       "6    9909  \n",
       "7    9909  \n",
       "8    9909  \n",
       "\n",
       "[5 rows x 8 columns]"
      ]
     },
     "execution_count": 9,
     "metadata": {},
     "output_type": "execute_result"
    }
   ],
   "source": [
    "#筛选出第5~10条数据，使用切片，传入开始、截止的索引（左右闭区间）即可----->连续筛选\n",
    "data[4:9]"
   ]
  },
  {
   "cell_type": "code",
   "execution_count": 10,
   "metadata": {},
   "outputs": [
    {
     "data": {
      "text/html": [
       "<div style=\"max-height:1000px;max-width:1500px;overflow:auto;\">\n",
       "<table border=\"1\" class=\"dataframe\">\n",
       "  <thead>\n",
       "    <tr style=\"text-align: right;\">\n",
       "      <th></th>\n",
       "      <th>userId</th>\n",
       "      <th>movieId</th>\n",
       "      <th>rating</th>\n",
       "      <th>timestamp</th>\n",
       "      <th>title</th>\n",
       "      <th>genres</th>\n",
       "      <th>imdbId</th>\n",
       "      <th>tmdbId</th>\n",
       "    </tr>\n",
       "  </thead>\n",
       "  <tbody>\n",
       "    <tr>\n",
       "      <th>0 </th>\n",
       "      <td>   1</td>\n",
       "      <td> 31</td>\n",
       "      <td> 2.5</td>\n",
       "      <td> 1260759144</td>\n",
       "      <td> Dangerous Minds (1995)</td>\n",
       "      <td> Drama</td>\n",
       "      <td> 112792</td>\n",
       "      <td> 9909</td>\n",
       "    </tr>\n",
       "    <tr>\n",
       "      <th>3 </th>\n",
       "      <td>  32</td>\n",
       "      <td> 31</td>\n",
       "      <td> 4.0</td>\n",
       "      <td>  834828440</td>\n",
       "      <td> Dangerous Minds (1995)</td>\n",
       "      <td> Drama</td>\n",
       "      <td> 112792</td>\n",
       "      <td> 9909</td>\n",
       "    </tr>\n",
       "    <tr>\n",
       "      <th>6 </th>\n",
       "      <td>  73</td>\n",
       "      <td> 31</td>\n",
       "      <td> 3.5</td>\n",
       "      <td> 1255591860</td>\n",
       "      <td> Dangerous Minds (1995)</td>\n",
       "      <td> Drama</td>\n",
       "      <td> 112792</td>\n",
       "      <td> 9909</td>\n",
       "    </tr>\n",
       "    <tr>\n",
       "      <th>9 </th>\n",
       "      <td> 110</td>\n",
       "      <td> 31</td>\n",
       "      <td> 4.0</td>\n",
       "      <td>  840100695</td>\n",
       "      <td> Dangerous Minds (1995)</td>\n",
       "      <td> Drama</td>\n",
       "      <td> 112792</td>\n",
       "      <td> 9909</td>\n",
       "    </tr>\n",
       "    <tr>\n",
       "      <th>12</th>\n",
       "      <td> 161</td>\n",
       "      <td> 31</td>\n",
       "      <td> 3.0</td>\n",
       "      <td>  837629820</td>\n",
       "      <td> Dangerous Minds (1995)</td>\n",
       "      <td> Drama</td>\n",
       "      <td> 112792</td>\n",
       "      <td> 9909</td>\n",
       "    </tr>\n",
       "  </tbody>\n",
       "</table>\n",
       "<p>5 rows × 8 columns</p>\n",
       "</div>"
      ],
      "text/plain": [
       "    userId  movieId  rating   timestamp                   title genres  \\\n",
       "0        1       31     2.5  1260759144  Dangerous Minds (1995)  Drama   \n",
       "3       32       31     4.0   834828440  Dangerous Minds (1995)  Drama   \n",
       "6       73       31     3.5  1255591860  Dangerous Minds (1995)  Drama   \n",
       "9      110       31     4.0   840100695  Dangerous Minds (1995)  Drama   \n",
       "12     161       31     3.0   837629820  Dangerous Minds (1995)  Drama   \n",
       "\n",
       "    imdbId  tmdbId  \n",
       "0   112792    9909  \n",
       "3   112792    9909  \n",
       "6   112792    9909  \n",
       "9   112792    9909  \n",
       "12  112792    9909  \n",
       "\n",
       "[5 rows x 8 columns]"
      ]
     },
     "execution_count": 10,
     "metadata": {},
     "output_type": "execute_result"
    }
   ],
   "source": [
    "#如何筛选不连续的数据呢？通过切片一样可以完成每隔两行筛选一条数据。\n",
    "data[ : : 3].head()"
   ]
  },
  {
   "cell_type": "code",
   "execution_count": 11,
   "metadata": {},
   "outputs": [
    {
     "data": {
      "text/plain": [
       "0    2.5\n",
       "1    3.0\n",
       "2    4.0\n",
       "3    4.0\n",
       "4    3.0\n",
       "Name: rating, dtype: float64"
      ]
     },
     "execution_count": 11,
     "metadata": {},
     "output_type": "execute_result"
    }
   ],
   "source": [
    "#第三步： 根据“列”筛选数据\n",
    "#除了掌握筛选行数据之外，掌握筛选列数据也是必须的。\n",
    "\n",
    "#比如想要筛选出所有评分的这一列，通过 get方法可以获取。\n",
    "data.get(\"rating\").head()"
   ]
  },
  {
   "cell_type": "code",
   "execution_count": 12,
   "metadata": {},
   "outputs": [
    {
     "data": {
      "text/plain": [
       "0    2.5\n",
       "1    3.0\n",
       "2    4.0\n",
       "3    4.0\n",
       "4    3.0\n",
       "Name: rating, dtype: float64"
      ]
     },
     "execution_count": 12,
     "metadata": {},
     "output_type": "execute_result"
    }
   ],
   "source": [
    "#另外，通过属性的方式，也能够实现。\n",
    "data.rating.head()"
   ]
  },
  {
   "cell_type": "code",
   "execution_count": 13,
   "metadata": {},
   "outputs": [
    {
     "data": {
      "text/plain": [
       "0    2.5\n",
       "1    3.0\n",
       "2    4.0\n",
       "3    4.0\n",
       "4    3.0\n",
       "Name: rating, dtype: float64"
      ]
     },
     "execution_count": 13,
     "metadata": {},
     "output_type": "execute_result"
    }
   ],
   "source": [
    "#再者，通过切片的方式，同样可以实现。\n",
    "data[\"rating\"].head()"
   ]
  },
  {
   "cell_type": "code",
   "execution_count": 14,
   "metadata": {},
   "outputs": [
    {
     "data": {
      "text/html": [
       "<div style=\"max-height:1000px;max-width:1500px;overflow:auto;\">\n",
       "<table border=\"1\" class=\"dataframe\">\n",
       "  <thead>\n",
       "    <tr style=\"text-align: right;\">\n",
       "      <th></th>\n",
       "      <th>rating</th>\n",
       "    </tr>\n",
       "  </thead>\n",
       "  <tbody>\n",
       "    <tr>\n",
       "      <th>0</th>\n",
       "      <td> 2.5</td>\n",
       "    </tr>\n",
       "    <tr>\n",
       "      <th>1</th>\n",
       "      <td> 3.0</td>\n",
       "    </tr>\n",
       "    <tr>\n",
       "      <th>2</th>\n",
       "      <td> 4.0</td>\n",
       "    </tr>\n",
       "    <tr>\n",
       "      <th>3</th>\n",
       "      <td> 4.0</td>\n",
       "    </tr>\n",
       "    <tr>\n",
       "      <th>4</th>\n",
       "      <td> 3.0</td>\n",
       "    </tr>\n",
       "  </tbody>\n",
       "</table>\n",
       "<p>5 rows × 1 columns</p>\n",
       "</div>"
      ],
      "text/plain": [
       "   rating\n",
       "0     2.5\n",
       "1     3.0\n",
       "2     4.0\n",
       "3     4.0\n",
       "4     3.0\n",
       "\n",
       "[5 rows x 1 columns]"
      ]
     },
     "execution_count": 14,
     "metadata": {},
     "output_type": "execute_result"
    }
   ],
   "source": [
    "#可以看到，上面的方式筛选得到的结果都是一个 Series，如果得到 DataFrame 类型呢？\n",
    "#一种：最笨的办法是将得到的 Series 通过 to_frame ( ) 方法转为 DataFrame。\n",
    "data.rating.to_frame().head()"
   ]
  },
  {
   "cell_type": "code",
   "execution_count": 15,
   "metadata": {},
   "outputs": [
    {
     "data": {
      "text/html": [
       "<div style=\"max-height:1000px;max-width:1500px;overflow:auto;\">\n",
       "<table border=\"1\" class=\"dataframe\">\n",
       "  <thead>\n",
       "    <tr style=\"text-align: right;\">\n",
       "      <th></th>\n",
       "      <th>rating</th>\n",
       "    </tr>\n",
       "  </thead>\n",
       "  <tbody>\n",
       "    <tr>\n",
       "      <th>0</th>\n",
       "      <td> 2.5</td>\n",
       "    </tr>\n",
       "    <tr>\n",
       "      <th>1</th>\n",
       "      <td> 3.0</td>\n",
       "    </tr>\n",
       "    <tr>\n",
       "      <th>2</th>\n",
       "      <td> 4.0</td>\n",
       "    </tr>\n",
       "    <tr>\n",
       "      <th>3</th>\n",
       "      <td> 4.0</td>\n",
       "    </tr>\n",
       "    <tr>\n",
       "      <th>4</th>\n",
       "      <td> 3.0</td>\n",
       "    </tr>\n",
       "  </tbody>\n",
       "</table>\n",
       "<p>5 rows × 1 columns</p>\n",
       "</div>"
      ],
      "text/plain": [
       "   rating\n",
       "0     2.5\n",
       "1     3.0\n",
       "2     4.0\n",
       "3     4.0\n",
       "4     3.0\n",
       "\n",
       "[5 rows x 1 columns]"
      ]
     },
     "execution_count": 15,
     "metadata": {},
     "output_type": "execute_result"
    }
   ],
   "source": [
    "#第二种：将切片中传入一个列表。\n",
    "data[[\"rating\"]].head()"
   ]
  },
  {
   "cell_type": "code",
   "execution_count": 16,
   "metadata": {},
   "outputs": [
    {
     "data": {
      "text/html": [
       "<div style=\"max-height:1000px;max-width:1500px;overflow:auto;\">\n",
       "<table border=\"1\" class=\"dataframe\">\n",
       "  <thead>\n",
       "    <tr style=\"text-align: right;\">\n",
       "      <th></th>\n",
       "      <th>userId</th>\n",
       "      <th>movieId</th>\n",
       "      <th>rating</th>\n",
       "    </tr>\n",
       "  </thead>\n",
       "  <tbody>\n",
       "    <tr>\n",
       "      <th>0</th>\n",
       "      <td>  1</td>\n",
       "      <td> 31</td>\n",
       "      <td> 2.5</td>\n",
       "    </tr>\n",
       "    <tr>\n",
       "      <th>1</th>\n",
       "      <td>  7</td>\n",
       "      <td> 31</td>\n",
       "      <td> 3.0</td>\n",
       "    </tr>\n",
       "    <tr>\n",
       "      <th>2</th>\n",
       "      <td> 31</td>\n",
       "      <td> 31</td>\n",
       "      <td> 4.0</td>\n",
       "    </tr>\n",
       "    <tr>\n",
       "      <th>3</th>\n",
       "      <td> 32</td>\n",
       "      <td> 31</td>\n",
       "      <td> 4.0</td>\n",
       "    </tr>\n",
       "    <tr>\n",
       "      <th>4</th>\n",
       "      <td> 36</td>\n",
       "      <td> 31</td>\n",
       "      <td> 3.0</td>\n",
       "    </tr>\n",
       "  </tbody>\n",
       "</table>\n",
       "<p>5 rows × 3 columns</p>\n",
       "</div>"
      ],
      "text/plain": [
       "   userId  movieId  rating\n",
       "0       1       31     2.5\n",
       "1       7       31     3.0\n",
       "2      31       31     4.0\n",
       "3      32       31     4.0\n",
       "4      36       31     3.0\n",
       "\n",
       "[5 rows x 3 columns]"
      ]
     },
     "execution_count": 16,
     "metadata": {},
     "output_type": "execute_result"
    }
   ],
   "source": [
    "#在实际使用时，你可能不仅仅只是筛选某一列，而是多列。\n",
    "#比如筛选出用户、电影、评分这三列数据。\n",
    "#实现方式同样可以将要筛选的列名组装成一个列表，传入到切片中。\n",
    "cols = [\"userId\", \"movieId\", \"rating\"]\n",
    "data[cols].head()"
   ]
  },
  {
   "cell_type": "code",
   "execution_count": 17,
   "metadata": {},
   "outputs": [
    {
     "data": {
      "text/plain": [
       "0    2.5\n",
       "1    3.0\n",
       "2    4.0\n",
       "3    4.0\n",
       "4    3.0\n",
       "Name: rating, dtype: float64"
      ]
     },
     "execution_count": 17,
     "metadata": {},
     "output_type": "execute_result"
    }
   ],
   "source": [
    "#第四步：根据“行+列”筛选数据\n",
    "#上面所做的筛选要么是根据行，要么是根据列，能不能既考虑行，有考虑列呢？\n",
    "#1. 答案当然是可以的了。比如想要筛选出前5行的评分这一列。\n",
    "data[ :5][\"rating\"]"
   ]
  },
  {
   "cell_type": "code",
   "execution_count": 18,
   "metadata": {},
   "outputs": [
    {
     "data": {
      "text/plain": [
       "0    2.5\n",
       "1    3.0\n",
       "2    4.0\n",
       "3    4.0\n",
       "4    3.0\n",
       "5    3.0\n",
       "Name: rating, dtype: float64"
      ]
     },
     "execution_count": 18,
     "metadata": {},
     "output_type": "execute_result"
    }
   ],
   "source": [
    "#通过上面的切片进行两次筛选就完成要求了，但是这个不是我们想要的方式，我们想要的是一步到位。\n",
    "#2. 我们通过 loc 来实现，0: 5 表示筛选出前5行，\"rating\"表示筛选出评分这一列。\n",
    "data.loc[0:5, \"rating\"]"
   ]
  },
  {
   "cell_type": "code",
   "execution_count": 19,
   "metadata": {},
   "outputs": [
    {
     "data": {
      "text/plain": [
       "0    2.5\n",
       "1    3.0\n",
       "2    4.0\n",
       "3    4.0\n",
       "4    3.0\n",
       "Name: rating, dtype: float64"
      ]
     },
     "execution_count": 19,
     "metadata": {},
     "output_type": "execute_result"
    }
   ],
   "source": [
    "#3. 除了 loc 外，通过 iloc 一样可以实现，只是 iloc 中接受的都是数字索引。\n",
    "#2 表示 rating 这一列在整个列名列表中的索引是 2。\n",
    "data.iloc[0:5, 2]"
   ]
  },
  {
   "cell_type": "code",
   "execution_count": 20,
   "metadata": {},
   "outputs": [
    {
     "data": {
      "text/html": [
       "<div style=\"max-height:1000px;max-width:1500px;overflow:auto;\">\n",
       "<table border=\"1\" class=\"dataframe\">\n",
       "  <thead>\n",
       "    <tr style=\"text-align: right;\">\n",
       "      <th></th>\n",
       "      <th>userId</th>\n",
       "      <th>movieId</th>\n",
       "      <th>rating</th>\n",
       "      <th>timestamp</th>\n",
       "      <th>title</th>\n",
       "      <th>genres</th>\n",
       "      <th>imdbId</th>\n",
       "      <th>tmdbId</th>\n",
       "    </tr>\n",
       "  </thead>\n",
       "  <tbody>\n",
       "    <tr>\n",
       "      <th>98644</th>\n",
       "      <td> 547</td>\n",
       "      <td> 2049</td>\n",
       "      <td> 2.5</td>\n",
       "      <td> 1199392175</td>\n",
       "      <td> Happiest Millionaire, The (1967)</td>\n",
       "      <td> Comedy|Musical</td>\n",
       "      <td> 61749</td>\n",
       "      <td> 25445</td>\n",
       "    </tr>\n",
       "  </tbody>\n",
       "</table>\n",
       "<p>1 rows × 8 columns</p>\n",
       "</div>"
      ],
      "text/plain": [
       "       userId  movieId  rating   timestamp                             title  \\\n",
       "98644     547     2049     2.5  1199392175  Happiest Millionaire, The (1967)   \n",
       "\n",
       "               genres  imdbId  tmdbId  \n",
       "98644  Comedy|Musical   61749   25445  \n",
       "\n",
       "[1 rows x 8 columns]"
      ]
     },
     "execution_count": 20,
     "metadata": {},
     "output_type": "execute_result"
    }
   ],
   "source": [
    "# 第五步：根据“布尔条件”筛选数据\n",
    "#实际工作中，我们用到更多的是通过布尔条件来进行筛选数据的。\n",
    "#Boolean（布尔运算）通过对两个以上X进行并集、差集、交集的运算，只有true(真)和false(假)两种值。\n",
    "\n",
    "#例如想要筛选出电影id为 2049 的数据，通过给切片中传入一个布尔表达式即可。\n",
    "data[data[\"movieId\"]==2049] "
   ]
  },
  {
   "cell_type": "code",
   "execution_count": 23,
   "metadata": {},
   "outputs": [
    {
     "data": {
      "text/html": [
       "<div style=\"max-height:1000px;max-width:1500px;overflow:auto;\">\n",
       "<table border=\"1\" class=\"dataframe\">\n",
       "  <thead>\n",
       "    <tr style=\"text-align: right;\">\n",
       "      <th></th>\n",
       "      <th>userId</th>\n",
       "      <th>movieId</th>\n",
       "      <th>rating</th>\n",
       "      <th>timestamp</th>\n",
       "      <th>title</th>\n",
       "      <th>genres</th>\n",
       "      <th>imdbId</th>\n",
       "      <th>tmdbId</th>\n",
       "    </tr>\n",
       "  </thead>\n",
       "  <tbody>\n",
       "    <tr>\n",
       "      <th>97344</th>\n",
       "      <td> 407</td>\n",
       "      <td> 6268</td>\n",
       "      <td> 3.5</td>\n",
       "      <td> 1079737241</td>\n",
       "      <td>     Raising Victor Vargas (2002)</td>\n",
       "      <td> Comedy|Drama|Romance</td>\n",
       "      <td> 316188</td>\n",
       "      <td> 25461</td>\n",
       "    </tr>\n",
       "    <tr>\n",
       "      <th>97345</th>\n",
       "      <td> 671</td>\n",
       "      <td> 6268</td>\n",
       "      <td> 2.5</td>\n",
       "      <td> 1065579370</td>\n",
       "      <td>     Raising Victor Vargas (2002)</td>\n",
       "      <td> Comedy|Drama|Romance</td>\n",
       "      <td> 316188</td>\n",
       "      <td> 25461</td>\n",
       "    </tr>\n",
       "    <tr>\n",
       "      <th>98644</th>\n",
       "      <td> 547</td>\n",
       "      <td> 2049</td>\n",
       "      <td> 2.5</td>\n",
       "      <td> 1199392175</td>\n",
       "      <td> Happiest Millionaire, The (1967)</td>\n",
       "      <td>       Comedy|Musical</td>\n",
       "      <td>  61749</td>\n",
       "      <td> 25445</td>\n",
       "    </tr>\n",
       "  </tbody>\n",
       "</table>\n",
       "<p>3 rows × 8 columns</p>\n",
       "</div>"
      ],
      "text/plain": [
       "       userId  movieId  rating   timestamp                             title  \\\n",
       "97344     407     6268     3.5  1079737241      Raising Victor Vargas (2002)   \n",
       "97345     671     6268     2.5  1065579370      Raising Victor Vargas (2002)   \n",
       "98644     547     2049     2.5  1199392175  Happiest Millionaire, The (1967)   \n",
       "\n",
       "                     genres  imdbId  tmdbId  \n",
       "97344  Comedy|Drama|Romance  316188   25461  \n",
       "97345  Comedy|Drama|Romance  316188   25461  \n",
       "98644        Comedy|Musical   61749   25445  \n",
       "\n",
       "[3 rows x 8 columns]"
      ]
     },
     "execution_count": 23,
     "metadata": {},
     "output_type": "execute_result"
    }
   ],
   "source": [
    "#假如想要筛选出电影id是 2049 或者 6268 的数据。只需要通过条件连接符连接多个布尔条件即可。\n",
    "#注意：\n",
    "#(1)布尔操作时，& 对应 and，| 对应 or，~ 对应 not\n",
    "#(2)多个布尔条件需要使用小括号进行分组\n",
    "data[ (data[\"movieId\"]==2049) | (data[\"movieId\"]==6268) ]"
   ]
  },
  {
   "cell_type": "code",
   "execution_count": 24,
   "metadata": {},
   "outputs": [
    {
     "data": {
      "text/html": [
       "<div style=\"max-height:1000px;max-width:1500px;overflow:auto;\">\n",
       "<table border=\"1\" class=\"dataframe\">\n",
       "  <thead>\n",
       "    <tr style=\"text-align: right;\">\n",
       "      <th></th>\n",
       "      <th>userId</th>\n",
       "      <th>movieId</th>\n",
       "      <th>rating</th>\n",
       "      <th>timestamp</th>\n",
       "      <th>title</th>\n",
       "      <th>genres</th>\n",
       "      <th>imdbId</th>\n",
       "      <th>tmdbId</th>\n",
       "    </tr>\n",
       "  </thead>\n",
       "  <tbody>\n",
       "    <tr>\n",
       "      <th>97344</th>\n",
       "      <td> 407</td>\n",
       "      <td> 6268</td>\n",
       "      <td> 3.5</td>\n",
       "      <td> 1079737241</td>\n",
       "      <td>     Raising Victor Vargas (2002)</td>\n",
       "      <td> Comedy|Drama|Romance</td>\n",
       "      <td> 316188</td>\n",
       "      <td> 25461</td>\n",
       "    </tr>\n",
       "    <tr>\n",
       "      <th>97345</th>\n",
       "      <td> 671</td>\n",
       "      <td> 6268</td>\n",
       "      <td> 2.5</td>\n",
       "      <td> 1065579370</td>\n",
       "      <td>     Raising Victor Vargas (2002)</td>\n",
       "      <td> Comedy|Drama|Romance</td>\n",
       "      <td> 316188</td>\n",
       "      <td> 25461</td>\n",
       "    </tr>\n",
       "    <tr>\n",
       "      <th>98644</th>\n",
       "      <td> 547</td>\n",
       "      <td> 2049</td>\n",
       "      <td> 2.5</td>\n",
       "      <td> 1199392175</td>\n",
       "      <td> Happiest Millionaire, The (1967)</td>\n",
       "      <td>       Comedy|Musical</td>\n",
       "      <td>  61749</td>\n",
       "      <td> 25445</td>\n",
       "    </tr>\n",
       "  </tbody>\n",
       "</table>\n",
       "<p>3 rows × 8 columns</p>\n",
       "</div>"
      ],
      "text/plain": [
       "       userId  movieId  rating   timestamp                             title  \\\n",
       "97344     407     6268     3.5  1079737241      Raising Victor Vargas (2002)   \n",
       "97345     671     6268     2.5  1065579370      Raising Victor Vargas (2002)   \n",
       "98644     547     2049     2.5  1199392175  Happiest Millionaire, The (1967)   \n",
       "\n",
       "                     genres  imdbId  tmdbId  \n",
       "97344  Comedy|Drama|Romance  316188   25461  \n",
       "97345  Comedy|Drama|Romance  316188   25461  \n",
       "98644        Comedy|Musical   61749   25445  \n",
       "\n",
       "[3 rows x 8 columns]"
      ]
     },
     "execution_count": 24,
     "metadata": {},
     "output_type": "execute_result"
    }
   ],
   "source": [
    "#其实还有另外一种方式可以实现，通过 isin 函数。\n",
    "mids = [2049, 6268]\n",
    "data[data[\"movieId\"].isin(mids)]"
   ]
  },
  {
   "cell_type": "code",
   "execution_count": null,
   "metadata": {},
   "outputs": [],
   "source": []
  }
 ],
 "metadata": {
  "kernelspec": {
   "display_name": "Python 2",
   "language": "python",
   "name": "python2"
  },
  "language_info": {
   "codemirror_mode": {
    "name": "ipython",
    "version": 2
   },
   "file_extension": ".py",
   "mimetype": "text/x-python",
   "name": "python",
   "nbconvert_exporter": "python",
   "pygments_lexer": "ipython2",
   "version": "2.7.6"
  }
 },
 "nbformat": 4,
 "nbformat_minor": 2
}
