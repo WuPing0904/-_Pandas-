{
 "cells": [
  {
   "cell_type": "code",
   "execution_count": 3,
   "metadata": {},
   "outputs": [],
   "source": [
    "#《跟着AI派学Python》 @wp20180731\n",
    "#在数据分析中，最有价值的是数据，并非分析方法。\n",
    "#数据？？？实际应用中，数据并不是：现成的、格式规整的，经常是需要我们自己去收集数据、整理数据。\n",
    "#练习：如何去将多个原始的文件合并成最终需要进行分析的汇总文件，包括以下几点：\n",
    "#1.读取需要表格文件\n",
    "#2.合并多个表格文件\n",
    "#3.写入汇总表格文件\n",
    "#AI派作者，对原始的数据集进行了处理，处理后一共是4个文件：links_1.csv, links_2.csv, movies.csv, ratings.csv。\n",
    "#练习效果：将这些文件合并成一个文件，并将生成的文件保存，以便于我们接下来分析使用。"
   ]
  },
  {
   "cell_type": "code",
   "execution_count": 4,
   "metadata": {},
   "outputs": [],
   "source": [
    "#导入相关的库\n",
    "import pandas as pd\n",
    "import numpy as np"
   ]
  },
  {
   "cell_type": "code",
   "execution_count": 5,
   "metadata": {},
   "outputs": [
    {
     "data": {
      "text/html": [
       "<div style=\"max-height:1000px;max-width:1500px;overflow:auto;\">\n",
       "<table border=\"1\" class=\"dataframe\">\n",
       "  <thead>\n",
       "    <tr style=\"text-align: right;\">\n",
       "      <th></th>\n",
       "      <th>userId</th>\n",
       "      <th>movieId</th>\n",
       "      <th>rating</th>\n",
       "      <th>timestamp</th>\n",
       "    </tr>\n",
       "  </thead>\n",
       "  <tbody>\n",
       "    <tr>\n",
       "      <th>0</th>\n",
       "      <td> 1</td>\n",
       "      <td>   31</td>\n",
       "      <td> 2.5</td>\n",
       "      <td> 1260759144</td>\n",
       "    </tr>\n",
       "    <tr>\n",
       "      <th>1</th>\n",
       "      <td> 1</td>\n",
       "      <td> 1029</td>\n",
       "      <td> 3.0</td>\n",
       "      <td> 1260759179</td>\n",
       "    </tr>\n",
       "  </tbody>\n",
       "</table>\n",
       "<p>2 rows × 4 columns</p>\n",
       "</div>"
      ],
      "text/plain": [
       "   userId  movieId  rating   timestamp\n",
       "0       1       31     2.5  1260759144\n",
       "1       1     1029     3.0  1260759179\n",
       "\n",
       "[2 rows x 4 columns]"
      ]
     },
     "execution_count": 5,
     "metadata": {},
     "output_type": "execute_result"
    }
   ],
   "source": [
    "#第一步：读取原始文件\n",
    "#每个原始文件都是标准的csv文件，读取时直接调用 pd.read_csv （）即可。\n",
    "\n",
    "#这里1_data文件夹下存放着ratings.csv 、links.csv、movies.csv，其中又将 ratings.csv 文件切分成了两部分：ratings_1.csv 和 ratings_2.csv。\n",
    "#ratings.csv 是用户对电影评分的数据文件，包含四列:userId,movieId,rating,timestamp ;\n",
    "#每一行数据表示用户在某个时间为某个电影打的分数。\n",
    "#rating 属于 0.5-5.0 星之间，timestamp 表示 unix 时间戳（10位，精确到秒）。\n",
    "#注意：这两个文件中不存在重复的用户评分数据。\n",
    "ratings_1 = pd.read_csv('/home/wp/Pandas_practice/1_data/ratings_1.csv')\n",
    "ratings_1.head(2)  #读取前n行"
   ]
  },
  {
   "cell_type": "code",
   "execution_count": 6,
   "metadata": {},
   "outputs": [
    {
     "data": {
      "text/html": [
       "<div style=\"max-height:1000px;max-width:1500px;overflow:auto;\">\n",
       "<table border=\"1\" class=\"dataframe\">\n",
       "  <thead>\n",
       "    <tr style=\"text-align: right;\">\n",
       "      <th></th>\n",
       "      <th>userId</th>\n",
       "      <th>movieId</th>\n",
       "      <th>rating</th>\n",
       "      <th>timestamp</th>\n",
       "    </tr>\n",
       "  </thead>\n",
       "  <tbody>\n",
       "    <tr>\n",
       "      <th>0</th>\n",
       "      <td> 367</td>\n",
       "      <td> 911</td>\n",
       "      <td>NaN</td>\n",
       "      <td> 1128633117</td>\n",
       "    </tr>\n",
       "    <tr>\n",
       "      <th>1</th>\n",
       "      <td> 367</td>\n",
       "      <td> 969</td>\n",
       "      <td>  5</td>\n",
       "      <td> 1128632828</td>\n",
       "    </tr>\n",
       "  </tbody>\n",
       "</table>\n",
       "<p>2 rows × 4 columns</p>\n",
       "</div>"
      ],
      "text/plain": [
       "   userId  movieId  rating   timestamp\n",
       "0     367      911     NaN  1128633117\n",
       "1     367      969       5  1128632828\n",
       "\n",
       "[2 rows x 4 columns]"
      ]
     },
     "execution_count": 6,
     "metadata": {},
     "output_type": "execute_result"
    }
   ],
   "source": [
    "ratings_2 = pd.read_csv('/home/wp/Pandas_practice/1_data/ratings_2.csv')\n",
    "ratings_2.head(2)  #读取前n行"
   ]
  },
  {
   "cell_type": "code",
   "execution_count": 7,
   "metadata": {},
   "outputs": [
    {
     "data": {
      "text/html": [
       "<div style=\"max-height:1000px;max-width:1500px;overflow:auto;\">\n",
       "<table border=\"1\" class=\"dataframe\">\n",
       "  <thead>\n",
       "    <tr style=\"text-align: right;\">\n",
       "      <th></th>\n",
       "      <th>movieId</th>\n",
       "      <th>title</th>\n",
       "      <th>genres</th>\n",
       "    </tr>\n",
       "  </thead>\n",
       "  <tbody>\n",
       "    <tr>\n",
       "      <th>0</th>\n",
       "      <td> 1</td>\n",
       "      <td> Toy Story (1995)</td>\n",
       "      <td> Adventure|Animation|Children|Comedy|Fantasy</td>\n",
       "    </tr>\n",
       "    <tr>\n",
       "      <th>1</th>\n",
       "      <td> 2</td>\n",
       "      <td>   Jumanji (1995)</td>\n",
       "      <td>                  Adventure|Children|Fantasy</td>\n",
       "    </tr>\n",
       "  </tbody>\n",
       "</table>\n",
       "<p>2 rows × 3 columns</p>\n",
       "</div>"
      ],
      "text/plain": [
       "   movieId             title                                       genres\n",
       "0        1  Toy Story (1995)  Adventure|Animation|Children|Comedy|Fantasy\n",
       "1        2    Jumanji (1995)                   Adventure|Children|Fantasy\n",
       "\n",
       "[2 rows x 3 columns]"
      ]
     },
     "execution_count": 7,
     "metadata": {},
     "output_type": "execute_result"
    }
   ],
   "source": [
    "# movies.csv（电影文件）：电影文件包含三列，分别是 movieId,title,genres 。\n",
    "#每一行数据表示这个电影的标题和体裁。\n",
    "#一部电影的体裁（genres）可能有多个，多个之间使用 “|” 分隔，\n",
    "#genres 可选的值为：Action, Adventure, Animation, Children's, Comedy, Crime, \n",
    "#Documentary, Drama, Fantasy, Film-Noir, Horror, Musical, Mystery, Romance, Sci-Fi, Thriller, War, Western。\n",
    "movies = pd.read_csv(\"/home/wp/Pandas_practice/1_data/movies.csv\")\n",
    "movies.head(2)"
   ]
  },
  {
   "cell_type": "code",
   "execution_count": 8,
   "metadata": {},
   "outputs": [
    {
     "data": {
      "text/html": [
       "<div style=\"max-height:1000px;max-width:1500px;overflow:auto;\">\n",
       "<table border=\"1\" class=\"dataframe\">\n",
       "  <thead>\n",
       "    <tr style=\"text-align: right;\">\n",
       "      <th></th>\n",
       "      <th>movieId</th>\n",
       "      <th>imdbId</th>\n",
       "      <th>tmdbId</th>\n",
       "    </tr>\n",
       "  </thead>\n",
       "  <tbody>\n",
       "    <tr>\n",
       "      <th>0</th>\n",
       "      <td> 1</td>\n",
       "      <td> 114709</td>\n",
       "      <td>  862</td>\n",
       "    </tr>\n",
       "    <tr>\n",
       "      <th>1</th>\n",
       "      <td> 2</td>\n",
       "      <td> 113497</td>\n",
       "      <td> 8844</td>\n",
       "    </tr>\n",
       "  </tbody>\n",
       "</table>\n",
       "<p>2 rows × 3 columns</p>\n",
       "</div>"
      ],
      "text/plain": [
       "   movieId  imdbId  tmdbId\n",
       "0        1  114709     862\n",
       "1        2  113497    8844\n",
       "\n",
       "[2 rows x 3 columns]"
      ]
     },
     "execution_count": 8,
     "metadata": {},
     "output_type": "execute_result"
    }
   ],
   "source": [
    "#links.csv（电影链接文件）：电影链接文件包含三列，分别是 movieId,imdbId,tmdbId 。\n",
    "#每一行数据表示这个电影对应在 imdb 和 themoviedb 电影网站的 id。\n",
    "links = pd.read_csv('/home/wp/Pandas_practice/1_data/links.csv')\n",
    "links.head(2)"
   ]
  },
  {
   "cell_type": "code",
   "execution_count": 9,
   "metadata": {},
   "outputs": [],
   "source": [
    "#经过上面的操作后，我们得到了4个DataFrame：ratings_1、ratings_2、movies、links。"
   ]
  },
  {
   "cell_type": "code",
   "execution_count": 10,
   "metadata": {},
   "outputs": [
    {
     "name": "stdout",
     "output_type": "stream",
     "text": [
      "50002\n",
      "50002\n"
     ]
    }
   ],
   "source": [
    "#第二步：合并数据。\n",
    "\n",
    "#1.合并用户评分数据（拼接）\n",
    "\n",
    "#将这4个文件转为DataFrame之后，如何合并后生成一个汇总的DataFrame呢？\n",
    "#从上面可以看出来，ratings_1 和 ratings_2 都是用户对电影的评分数据，既然都是用户对电影的评分数据，并且字段相同，如何将它们合并成一个 DataFrame 呢？\n",
    "#先看ratings_1 和 ratings_2 的数据条数:\n",
    "print(len(ratings_1))\n",
    "print(len(ratings_2))\n",
    "#可以看到，ratings_1 和 ratings_2 都是 50002 条数据，也就意味合并后会有 50002 + 50002 = 100004 \n",
    "#（因为这两个文件不包含重复数据，所以直接相加即可）条用户对电影的评分记录。"
   ]
  },
  {
   "cell_type": "code",
   "execution_count": 11,
   "metadata": {},
   "outputs": [
    {
     "data": {
      "text/plain": [
       "(100004, 4)"
      ]
     },
     "execution_count": 11,
     "metadata": {},
     "output_type": "execute_result"
    }
   ],
   "source": [
    "#调用 append ()方法即可完成数据数据合并（拼接），同时我们可以指定参数 ignore_index=True 来重新生成索引。\n",
    "ratings_info = ratings_1.append(ratings_2,ignore_index=True)\n",
    "ratings_info.shape\n",
    "#print(len(ratings_info)"
   ]
  },
  {
   "cell_type": "code",
   "execution_count": 12,
   "metadata": {},
   "outputs": [
    {
     "data": {
      "text/html": [
       "<div style=\"max-height:1000px;max-width:1500px;overflow:auto;\">\n",
       "<table border=\"1\" class=\"dataframe\">\n",
       "  <thead>\n",
       "    <tr style=\"text-align: right;\">\n",
       "      <th></th>\n",
       "      <th>userId</th>\n",
       "      <th>movieId</th>\n",
       "      <th>rating</th>\n",
       "      <th>timestamp</th>\n",
       "    </tr>\n",
       "  </thead>\n",
       "  <tbody>\n",
       "    <tr>\n",
       "      <th>99999 </th>\n",
       "      <td> 671</td>\n",
       "      <td> 6268</td>\n",
       "      <td> 2.5</td>\n",
       "      <td> 1065579370</td>\n",
       "    </tr>\n",
       "    <tr>\n",
       "      <th>100000</th>\n",
       "      <td> 671</td>\n",
       "      <td> 6269</td>\n",
       "      <td> 4.0</td>\n",
       "      <td> 1065149201</td>\n",
       "    </tr>\n",
       "    <tr>\n",
       "      <th>100001</th>\n",
       "      <td> 671</td>\n",
       "      <td> 6365</td>\n",
       "      <td> 4.0</td>\n",
       "      <td> 1070940363</td>\n",
       "    </tr>\n",
       "    <tr>\n",
       "      <th>100002</th>\n",
       "      <td> 671</td>\n",
       "      <td> 6385</td>\n",
       "      <td> 2.5</td>\n",
       "      <td> 1070979663</td>\n",
       "    </tr>\n",
       "    <tr>\n",
       "      <th>100003</th>\n",
       "      <td> 671</td>\n",
       "      <td> 6565</td>\n",
       "      <td> 3.5</td>\n",
       "      <td> 1074784724</td>\n",
       "    </tr>\n",
       "  </tbody>\n",
       "</table>\n",
       "<p>5 rows × 4 columns</p>\n",
       "</div>"
      ],
      "text/plain": [
       "        userId  movieId  rating   timestamp\n",
       "99999      671     6268     2.5  1065579370\n",
       "100000     671     6269     4.0  1065149201\n",
       "100001     671     6365     4.0  1070940363\n",
       "100002     671     6385     2.5  1070979663\n",
       "100003     671     6565     3.5  1074784724\n",
       "\n",
       "[5 rows x 4 columns]"
      ]
     },
     "execution_count": 12,
     "metadata": {},
     "output_type": "execute_result"
    }
   ],
   "source": [
    "ratings_info.tail( )"
   ]
  },
  {
   "cell_type": "code",
   "execution_count": 13,
   "metadata": {},
   "outputs": [
    {
     "name": "stdout",
     "output_type": "stream",
     "text": [
      "9125\n",
      "9125\n",
      "9125\n"
     ]
    }
   ],
   "source": [
    "#合并完成后，总体条数是正确的。合并了用户对电影的评分数据后，如何合并电影信息?\n",
    "\n",
    "#2. 合并电影信息（关联）\n",
    "\n",
    "#movies 和 links 这两个DataFrame都是关于电影的信息，只是一个是关于电影的标题和体裁，另一个是关于电影在 imdb 和 themoviedb 电影网站的 id。\n",
    "#合并后，我们期望一部电影的标题、体裁以及在 imdb 和 themoviedb 电影网站的 id能够出现在一条数据中。如何实现呢？\n",
    "#调用 merge 方法即可完成合并（关联），\n",
    "#不过在合并（关联）的时候需要考虑两点：依据哪个字段合并;采用哪种方式合并（内连接[inner]、外连接[outer]、左连接[left]、右连接[right]）\n",
    "#我们这里是为了将电影的相关信息关联起来，所以依据 movieId 字段来关联。\n",
    "#那采用哪种方式来合并呢？我们来看下待合并的两个DataFrame中包含的不重复的 movieId 之间的关系。\n",
    "\n",
    "# movies 包含的不重复的 movieId 个数\n",
    "print(len(movies.movieId.unique( )))\n",
    "\n",
    "# links 包含的不重复的 movieId 个数\n",
    "print(len(links.movieId.unique( )))\n",
    "\n",
    "#movies和links 交集中包含的不重复的 movieId 个数\n",
    "print(len(np.intersect1d(movies.movieId.unique( ), links.movieId.unique( )))) \n",
    "#np.intersect1d( ndarray1, ndarray2) 返回二者的交集并排序。"
   ]
  },
  {
   "cell_type": "code",
   "execution_count": 14,
   "metadata": {},
   "outputs": [
    {
     "data": {
      "text/plain": [
       "(9125, 5)"
      ]
     },
     "execution_count": 14,
     "metadata": {},
     "output_type": "execute_result"
    }
   ],
   "source": [
    "#上面的统计结果显示 movies 和 links 关于 movieId 交集的个数与它们本身的去重后 movieId 个数相同，\n",
    "#所以我们无论采用哪种合并方式，得到的结果都是一样的。\n",
    "#因此，我们设置参数 how=\"inner\"表示采用内连接，设置参数 on=\"movieId\" 表示依据 movieId 这个字段来关联。\n",
    "movies_info = movies.merge(links, how=\"inner\", on=\"movieId\")\n",
    "movies_info.shape"
   ]
  },
  {
   "cell_type": "code",
   "execution_count": 15,
   "metadata": {},
   "outputs": [
    {
     "data": {
      "text/html": [
       "<div style=\"max-height:1000px;max-width:1500px;overflow:auto;\">\n",
       "<table border=\"1\" class=\"dataframe\">\n",
       "  <thead>\n",
       "    <tr style=\"text-align: right;\">\n",
       "      <th></th>\n",
       "      <th>movieId</th>\n",
       "      <th>title</th>\n",
       "      <th>genres</th>\n",
       "      <th>imdbId</th>\n",
       "      <th>tmdbId</th>\n",
       "    </tr>\n",
       "  </thead>\n",
       "  <tbody>\n",
       "    <tr>\n",
       "      <th>0</th>\n",
       "      <td> 1</td>\n",
       "      <td>                   Toy Story (1995)</td>\n",
       "      <td> Adventure|Animation|Children|Comedy|Fantasy</td>\n",
       "      <td> 114709</td>\n",
       "      <td>   862</td>\n",
       "    </tr>\n",
       "    <tr>\n",
       "      <th>1</th>\n",
       "      <td> 2</td>\n",
       "      <td>                     Jumanji (1995)</td>\n",
       "      <td>                  Adventure|Children|Fantasy</td>\n",
       "      <td> 113497</td>\n",
       "      <td>  8844</td>\n",
       "    </tr>\n",
       "    <tr>\n",
       "      <th>2</th>\n",
       "      <td> 3</td>\n",
       "      <td>            Grumpier Old Men (1995)</td>\n",
       "      <td>                              Comedy|Romance</td>\n",
       "      <td> 113228</td>\n",
       "      <td>   NaN</td>\n",
       "    </tr>\n",
       "    <tr>\n",
       "      <th>3</th>\n",
       "      <td> 4</td>\n",
       "      <td>           Waiting to Exhale (1995)</td>\n",
       "      <td>                        Comedy|Drama|Romance</td>\n",
       "      <td> 114885</td>\n",
       "      <td> 31357</td>\n",
       "    </tr>\n",
       "    <tr>\n",
       "      <th>4</th>\n",
       "      <td> 5</td>\n",
       "      <td> Father of the Bride Part II (1995)</td>\n",
       "      <td>                                      Comedy</td>\n",
       "      <td> 113041</td>\n",
       "      <td> 11862</td>\n",
       "    </tr>\n",
       "  </tbody>\n",
       "</table>\n",
       "<p>5 rows × 5 columns</p>\n",
       "</div>"
      ],
      "text/plain": [
       "   movieId                               title  \\\n",
       "0        1                    Toy Story (1995)   \n",
       "1        2                      Jumanji (1995)   \n",
       "2        3             Grumpier Old Men (1995)   \n",
       "3        4            Waiting to Exhale (1995)   \n",
       "4        5  Father of the Bride Part II (1995)   \n",
       "\n",
       "                                        genres  imdbId  tmdbId  \n",
       "0  Adventure|Animation|Children|Comedy|Fantasy  114709     862  \n",
       "1                   Adventure|Children|Fantasy  113497    8844  \n",
       "2                               Comedy|Romance  113228     NaN  \n",
       "3                         Comedy|Drama|Romance  114885   31357  \n",
       "4                                       Comedy  113041   11862  \n",
       "\n",
       "[5 rows x 5 columns]"
      ]
     },
     "execution_count": 15,
     "metadata": {},
     "output_type": "execute_result"
    }
   ],
   "source": [
    "movies_info.head()"
   ]
  },
  {
   "cell_type": "code",
   "execution_count": 16,
   "metadata": {},
   "outputs": [
    {
     "name": "stdout",
     "output_type": "stream",
     "text": [
      "9066\n",
      "9125\n",
      "9066\n"
     ]
    }
   ],
   "source": [
    "#3.合并用户和电影信息（关联）\n",
    "#我们已经得到了用户对电影的评分数据以及电影的信息这两个 Dataframe，如何将这两个 DataFrame 合并在一起呢？\n",
    "#其实合并方法与上面合并电影信息类似，只需要确定关联的字段以及关联的方式即可。很明显，关联字段是 movieId，我们来确定下关联的方式。\n",
    "\n",
    "#ratings_info包含的不重复的movieId个数\n",
    "print(len(ratings_info.movieId.unique()))\n",
    "\n",
    "#movies_info包含的不重复的movieId个数\n",
    "print(len(movies_info.movieId.unique()))\n",
    "\n",
    "#ratings_info包含的不重复的movieId个数\n",
    "print(len(np.intersect1d(ratings_info.movieId.unique( ), movies_info.movieId.unique( )))) \n",
    "#np.intersect1d( ndarray1, ndarray2) 返回二者的交集并排序。"
   ]
  },
  {
   "cell_type": "code",
   "execution_count": 19,
   "metadata": {},
   "outputs": [
    {
     "data": {
      "text/plain": [
       "(100004, 8)"
      ]
     },
     "execution_count": 19,
     "metadata": {},
     "output_type": "execute_result"
    }
   ],
   "source": [
    "#上面结果说明 ratings_info 包含的 movieId 是 movies_info 包含的 movieId 的真子集，也就是说有部分电影没有经过用户评分，这里我们想要保留有用户评分的电影的相关记录，没有用户评分的电影记录舍弃。\n",
    "#假定我们在合并时，假定 ratings_info 放在左边，movies_info 放在右边，这时候关联方式选择左连接[left]和内连接[inner]都可以满足上面的要求。\n",
    "data = ratings_info.merge(movies_info, how='left', on='movieId')\n",
    "data.shape"
   ]
  },
  {
   "cell_type": "code",
   "execution_count": 20,
   "metadata": {},
   "outputs": [
    {
     "data": {
      "text/html": [
       "<div style=\"max-height:1000px;max-width:1500px;overflow:auto;\">\n",
       "<table border=\"1\" class=\"dataframe\">\n",
       "  <thead>\n",
       "    <tr style=\"text-align: right;\">\n",
       "      <th></th>\n",
       "      <th>userId</th>\n",
       "      <th>movieId</th>\n",
       "      <th>rating</th>\n",
       "      <th>timestamp</th>\n",
       "      <th>title</th>\n",
       "      <th>genres</th>\n",
       "      <th>imdbId</th>\n",
       "      <th>tmdbId</th>\n",
       "    </tr>\n",
       "  </thead>\n",
       "  <tbody>\n",
       "    <tr>\n",
       "      <th>0</th>\n",
       "      <td>  1</td>\n",
       "      <td> 31</td>\n",
       "      <td> 2.5</td>\n",
       "      <td> 1260759144</td>\n",
       "      <td> Dangerous Minds (1995)</td>\n",
       "      <td> Drama</td>\n",
       "      <td> 112792</td>\n",
       "      <td> 9909</td>\n",
       "    </tr>\n",
       "    <tr>\n",
       "      <th>1</th>\n",
       "      <td>  7</td>\n",
       "      <td> 31</td>\n",
       "      <td> 3.0</td>\n",
       "      <td>  851868750</td>\n",
       "      <td> Dangerous Minds (1995)</td>\n",
       "      <td> Drama</td>\n",
       "      <td> 112792</td>\n",
       "      <td> 9909</td>\n",
       "    </tr>\n",
       "    <tr>\n",
       "      <th>2</th>\n",
       "      <td> 31</td>\n",
       "      <td> 31</td>\n",
       "      <td> 4.0</td>\n",
       "      <td> 1273541953</td>\n",
       "      <td> Dangerous Minds (1995)</td>\n",
       "      <td> Drama</td>\n",
       "      <td> 112792</td>\n",
       "      <td> 9909</td>\n",
       "    </tr>\n",
       "    <tr>\n",
       "      <th>3</th>\n",
       "      <td> 32</td>\n",
       "      <td> 31</td>\n",
       "      <td> 4.0</td>\n",
       "      <td>  834828440</td>\n",
       "      <td> Dangerous Minds (1995)</td>\n",
       "      <td> Drama</td>\n",
       "      <td> 112792</td>\n",
       "      <td> 9909</td>\n",
       "    </tr>\n",
       "    <tr>\n",
       "      <th>4</th>\n",
       "      <td> 36</td>\n",
       "      <td> 31</td>\n",
       "      <td> 3.0</td>\n",
       "      <td>  847057202</td>\n",
       "      <td> Dangerous Minds (1995)</td>\n",
       "      <td> Drama</td>\n",
       "      <td> 112792</td>\n",
       "      <td> 9909</td>\n",
       "    </tr>\n",
       "  </tbody>\n",
       "</table>\n",
       "<p>5 rows × 8 columns</p>\n",
       "</div>"
      ],
      "text/plain": [
       "   userId  movieId  rating   timestamp                   title genres  imdbId  \\\n",
       "0       1       31     2.5  1260759144  Dangerous Minds (1995)  Drama  112792   \n",
       "1       7       31     3.0   851868750  Dangerous Minds (1995)  Drama  112792   \n",
       "2      31       31     4.0  1273541953  Dangerous Minds (1995)  Drama  112792   \n",
       "3      32       31     4.0   834828440  Dangerous Minds (1995)  Drama  112792   \n",
       "4      36       31     3.0   847057202  Dangerous Minds (1995)  Drama  112792   \n",
       "\n",
       "   tmdbId  \n",
       "0    9909  \n",
       "1    9909  \n",
       "2    9909  \n",
       "3    9909  \n",
       "4    9909  \n",
       "\n",
       "[5 rows x 8 columns]"
      ]
     },
     "execution_count": 20,
     "metadata": {},
     "output_type": "execute_result"
    }
   ],
   "source": [
    "data.head()"
   ]
  },
  {
   "cell_type": "code",
   "execution_count": 22,
   "metadata": {},
   "outputs": [],
   "source": [
    "#保存汇总数据\n",
    "#我们已经得到了合并后的所有数据，这时候我们需要将数据保存起来，以便于我们之后来分析使用。\n",
    "#这里我们将它存为一个标准的 csv 文件，直接调用 to_csv() 方法即可，为了避免索引也被保存，所以指定参数 index=False。\n",
    "data.to_csv(\"/home/wp/Pandas_practice/1_data/movie_ratings_summary.csv\", index=False)"
   ]
  },
  {
   "cell_type": "code",
   "execution_count": null,
   "metadata": {},
   "outputs": [],
   "source": []
  }
 ],
 "metadata": {
  "kernelspec": {
   "display_name": "Python 2",
   "language": "python",
   "name": "python2"
  },
  "language_info": {
   "codemirror_mode": {
    "name": "ipython",
    "version": 2
   },
   "file_extension": ".py",
   "mimetype": "text/x-python",
   "name": "python",
   "nbconvert_exporter": "python",
   "pygments_lexer": "ipython2",
   "version": "2.7.6"
  }
 },
 "nbformat": 4,
 "nbformat_minor": 2
}
